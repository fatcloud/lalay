{
 "cells": [
  {
   "cell_type": "code",
   "execution_count": 103,
   "metadata": {
    "collapsed": false
   },
   "outputs": [],
   "source": [
    "import math\n",
    "import requests as rq\n",
    "from bs4 import BeautifulSoup as bs"
   ]
  },
  {
   "cell_type": "code",
   "execution_count": 149,
   "metadata": {
    "collapsed": true
   },
   "outputs": [],
   "source": [
    "res = rq.get(\"http://www.coolpc.com.tw/evaluate.php\")\n",
    "dom = bs(res.text, 'lxml')\n",
    "items = [item for item in dom.select('option') if '$' in item.text]"
   ]
  },
  {
   "cell_type": "code",
   "execution_count": 168,
   "metadata": {
    "collapsed": false
   },
   "outputs": [],
   "source": [
    "def search_items(price, price_range=0.1 ):\n",
    "    # add items into price list\n",
    "    ret = []\n",
    "    \n",
    "    for item in items:\n",
    "        price_txt = [txt for txt in item.text.split() if '$' in txt]\n",
    "        item_price = int((price_txt[-1].split('$'))[-1])\n",
    "        if price * (1 - price_range)  <= item_price <= price * (1 + price_range):\n",
    "            ret.append( [item_price, item.text.strip()] )\n",
    "    \n",
    "    return ret"
   ]
  },
  {
   "cell_type": "code",
   "execution_count": 171,
   "metadata": {
    "collapsed": false
   },
   "outputs": [
    {
     "name": "stdout",
     "output_type": "stream",
     "text": [
      "雙揚 i-gotU Q-77HR/Q-Band藍牙4.0手錶/IPX7/UV 偵測/光學心率偵測【購物金 400】, $2480 ★\n",
      "AMD X4-860K/S2.0 靜音風扇【四核】3.7G(↑4.0G)/無內顯/95W/4M快取/28nm, $2490 ★ ↓任搭90↓\n",
      "華碩 H110M-C(M-ATX/1A1D/U3/全固/四年到府/COM PORT), $2490 ★ ↓任搭120↓\n",
      "技嘉 H110M-S2PH(MATX/1A1H/U3/全固/四年保固/COM+Parallel PORT), $2490 ★ ↓任搭120↓\n",
      "華擎 H110M-ITX(mini-ITX/1D1H/U3/i網/四年保固.一年換新), $2490 ★ ↓任搭30↓\n",
      "華碩 B150M-K D3(M-ATX/1A1D/U3/四年到府)*官網送戰艦虛寶-老手可儲, $2490 ★ ↓任搭125↓\n",
      "微星 B150M PRO-VDH(M-ATX/1A1D1H/U3/EX./四年), $2490 ★ ↓任搭100↓\n",
      "華碩 N3150M-E(M-ATX/1A1H/U3/前U3/含 lntel Quad-Core N3150-四核), $2490 ◆ ★ ↓任搭125↓\n",
      "技嘉 G41M-Combo(M-ATX/1A/IDE/LPT+COM1/DDR2+DDR3), $2490 ★ ↓任搭30↓\n",
      "技嘉 B85M-D3H(M-ATX/1A1D1H/U3/全固/前U3/四年)【購物金40】, $2490 ★\n",
      "威剛 8G*2 DDR4-2800 Dazzle LED XPG超頻版含散熱片【再送伊林麻豆撲克牌】, $2490 ★ 熱賣\n",
      "Plextor M7V 256G/7mm/讀:560M/寫:530M, $2499 ◆ ★ 熱賣\n",
      "Intel 535系列 240G/7mm/讀:540M/寫:490M/五年/工業包【Intel全球安心保】, $2499 ★ 熱賣\n",
      "創見 370S系列 256G/7mm/讀:570M/寫:310M, $2490 ◆ ★\n",
      "威剛 Premier Pro SP900 256G/7mm/讀:555M/寫:530M, $2499 ★\n",
      "SanDisk Z400S 256G/M.2 SATA 2280/讀:546M/寫:346M/企業級, $2499 ★\n",
      "EZLINK P51B-80 240G/M.2 SATA 2280/讀:500M/寫:400M, $2499 ★\n",
      "WD 1TB (10JFCX)【紅標】16M/NAS專用碟/9.5mm/三年保, $2500 ★\n",
      "利民 Silve Arrow ITX 6根6mm熱導管/黑化/搭載TY-149*1/AMD&INTEL/高度16.5cm, $2500 ◆ ★\n",
      "貓頭鷹 NH-U14S 6導管/使用NF-A15 PWM風扇/六年保(高度16.5), $2485 ★\n",
      "HBT+ Arctica 240 銅製水冷頭/12cm PWM風扇*2/LED燈光效果/24cm散熱排, $2490\n",
      "華碩 GT730-2GD5-BRK(2G GDDR5)14.5cm(完美四年保固), $2490 ★ 熱賣 ↓任搭200↓\n",
      "技嘉 N730D5-2GI(2G GDDR5)17.7cm, $2490 ★ ↓任搭125↓\n",
      "FOGIM TKLA-6032-SM(雙螢幕)(夾桌)(懸臂式)承載20KG/台製終保, $2490 ◆ ★\n",
      "BenQ VL2040AZ(1A)(1200萬:1/5ms)(無喇叭)低藍光,不閃屏, $2488 ★\n",
      "DELL E2016H(1A1P)(1000:1/5ms)(TN面板)(無喇叭) *不含D-SUB線, $2499 ★ 熱賣\n",
      "F.D R4(黑)顯卡長29/風扇高17/SSD*10(8共用) ATX, $2490 ★ 熱賣\n",
      "立光 EIPC 4U (黑) 工業機殼/ATX(不含滑軌)【購物金100元】, $2500 ★\n",
      "F.D R4(黑)顯卡長29/風扇高17/SSD*10(8共用) ATX, $2490 ★ 熱賣\n",
      "銀欣 新烏鴉 透側黑紅(RVX01BR-W)顯卡長34/風扇高16/SSD*4(共用)ATX, $2490 ◆ ★\n",
      "銀欣 新烏鴉 透側黑綠(RVX01BV-W)顯卡長34/風扇高16/SSD*4(共用)ATX, $2490 ◆ ★\n",
      "銀欣 新烏鴉 透側黑藍(RVX01BA-W)顯卡長34/風扇高16/SSD*4(共用)ATX, $2490 ◆ ★\n",
      "銀欣 GD05(黑) 顯卡長34/風扇高7/SSD*2/M-ATX【購物金100元】, $2489 ★\n",
      "酷碼 Silencio 550 顯卡長40/風扇高15/SSD*2/黑化.吸音棉/ATX, $2490 ★\n",
      "全漢 黑爵士 HGX550W 80+金牌/全日系/DC-DC/雙滾珠扇/5年保2年換新, $2490 ◆ ★ 熱賣\n",
      "康舒 iPower 90 500W 80+金牌/SRC+DC-DC架/五年免費一年換新, $2490 ★\n",
      "連鈺 G650 80+銅牌/12cm 靜音風扇/日系電容/五年保二年換新, $2490 ◆ ★\n",
      "技嘉 K83 機械式電競鍵盤/有線/青軸/區域防鬼鍵/無邊框孤島式設計/中文, $2490 ◆ ★ 熱賣 ↓任搭100↓\n",
      "技嘉 K83 機械式電競鍵盤/有線/紅軸/區域防鬼鍵/ 無邊框孤島式設計/中文, $2490 ◆ ★ ↓任搭100↓\n",
      "Razer Tartarus 塔洛斯魔蠍鍵盤/有線/25顆可編程按鍵【售完為止】, $2490 ★\n",
      "MAD CATZ L.Y.N.X.3 藍牙搖桿/無線/手機支撐架/支援Android.PC, $2499 ★ 熱賣\n",
      "MAD CATZ S.U.R.F. R 藍牙搖桿/無線/整合鍵盤/支援Android.PC【客訂】, $2499 ◆\n",
      "羅技 R800 專業簡報器/無線/2.4GHz/綠光雷射/液晶顯示, $2499 ★\n",
      "技嘉 AORUS Thunder M7 MMO 雷射電競滑鼠/有線/自定義/8200dpi, $2490 ◆ ★\n",
      "SteelSeries SENSEI RAW 暴雪英霸 雷射滑鼠(冰藍)/有線/滾輪、按鈕可發光, $2490 ★\n",
      "D-LINK DWM-222【USB供電】4G網卡(700/900/1800MHz)(150/50Mbps)▼下殺到 6/30 20:00, $2690↘$2499 ★\n",
      "華碩音效卡 Xonar U5 USB介面/訊噪比:104db/光纖音效卡, $2490 ★\n",
      "羅技 G430 電競耳麥/有線/折疊式/杜比7.1環繞 【3期0%】現金有優惠, $2490 ★ 熱賣\n",
      "SteelSeries Siberia 200 頭戴式耳麥(黑)/有線/伸縮mic【送神器款Rival 95滑鼠】, $2490 ◆ ★ 熱賣\n",
      "SteelSeries Siberia 200 頭戴式耳麥(黑體金邊)/有線/伸縮mic【送神器款Rival 95滑鼠】, $2490 ◆ ★ 熱賣\n",
      "SteelSeries Siberia 200 頭戴式耳麥(紅體黑邊)/有線/伸縮mic【送神器款Rival 95滑鼠】, $2490 ◆ ★ 熱賣\n",
      "SteelSeries Siberia 200 頭戴式耳麥(黑體黃邊)/有線/伸縮mic【送神器款Rival 95滑鼠】, $2490 ◆ ★\n",
      "SteelSeries Siberia 200 頭戴式耳麥(黑紫)/有線/伸縮mic【送神器款Rival 95滑鼠】, $2490 ◆ ★ 熱賣\n",
      "SteelSeries Siberia 200 頭戴式耳麥(膚綠)/有線/伸縮mic【送神器款Rival 95滑鼠】, $2490 ◆ ★\n",
      "羅技 Z333 2.1聲道喇叭(三件式)/有線/總輸出功率:40w RMS, $2490 ★\n",
      "Creative SOUND BLASTER TACTIC 3D FURY電競耳麥, $2490 ★\n",
      "藝極 EPICGEAR THUNDEROUZ Lite雷鳴魔 Lite電競耳麥/有線/線控/紅光(USB供電), $2490 ★\n",
      "SteelSeries Siberia 200 頭戴式耳麥(黑)/有線/伸縮mic【+送Rival 95滑鼠】, $2490 ◆ ★ 熱賣\n",
      "SteelSeries Siberia 200 頭戴式耳麥(黑體金邊)/有線/伸縮mic【+送Rival 95滑鼠】, $2490 ◆ ★ 熱賣\n",
      "SteelSeries Siberia 200 頭戴式耳麥(紅體黑邊)/有線/伸縮mic【+送Rival 95滑鼠】, $2490 ◆ ★ 熱賣\n",
      "SteelSeries Siberia 200 頭戴式耳麥(黑體黃邊)/有線/伸縮mic【+送Rival 95滑鼠】, $2490 ◆ ★ 熱賣\n",
      "SteelSeries Siberia 200 頭戴式耳麥(黑紫)/有線/伸縮mic【+送Rival 95滑鼠】, $2490 ◆ ★ 熱賣\n",
      "SteelSeries Siberia 200 頭戴式耳麥(膚綠)/有線/伸縮mic【+送Rival 95滑鼠】, $2490 ◆ ★ 熱賣\n",
      "金士頓 HyperX Cloud 2 電競耳麥(金屬灰)/有線, $2990↘$2480 ◆ ★\n",
      "金士頓 HyperX Cloud 2 電競耳麥(黑紅色)/有線, $2990↘$2480 ◆ ★ 熱賣\n",
      "金士頓 HyperX Cloud 2 電競耳麥(粉紅色)/有線, $2990↘$2480 ◆ ★\n",
      "華碩 Echelon 終極偵蒐者 耳麥(迷彩版)/有線【售完為止】, $2490 ◆ ★ 熱賣\n",
      "華碩 STRIX 2.0 電競耳麥/有線/雙麥設計/PC,手機通用/60mm單體【+送STRIX鼠墊】, $2490 ◆ ★\n",
      "羅技 G430 電競耳麥/有線/折疊式/杜比7.1環繞 【3期0%】現金有優惠, $2490 ★ 熱賣\n",
      "WP-M01S【100萬畫素】4倍變焦/雙向語音/五米夜視/位移、溫感偵測/MicroSD▼下殺到 6/30 23:59, $2680↘$2490 ★\n",
      "WP-M01S【100萬畫素】4倍變焦/雙向語音/五米夜視/位移、溫感偵測/MicroSD▼下殺到 6/30 23:59, $2680↘$2490 ★\n",
      "WP-H01S【30萬畫素】專業防水等級IP66/五米夜視/位移偵測/MicroSD▼下殺到 6/30 23:59, $2980↘$2490 ★\n",
      "DOD IS200W 聯詠/140°/F1.8【+送威剛 TF16G】【超優畫質!】, $2490 ◆ ★\n",
      "S050190 黑色碳粉匣(4K)/適用AcuLaser C1100/CX11F, $2490 ★\n",
      "S050523 黑色高容量碳粉匣(3.2k)/適用AcuLaser M1200, $2490 ★\n",
      "卡巴斯基 安全軟體 多裝置版 (三台二年), $2490\n",
      "聽打第一名 (專業版) 便利的聽/打字測試練習軟體, $2500 ★\n",
      "處理器AMD A4-7300【雙核】+台達 500W 80+白牌【劈561】, $2519 ★\n",
      "希捷1T(DX)混合碟+UMAX D3 4G-1600【劈221】, $2499 ★\n",
      "希捷1T(DX)混合碟+UMAX D4 4G-2133【劈221】, $2499 ★\n",
      "Toshiba Canvio Ready 1TB外接硬碟+UMAX D3 8G-1600【劈288】, $2499 ★\n",
      "Toshiba Canvio Ready 1TB外接硬碟+UMAX D4 8G-2133【劈288】, $2499 ★\n",
      "Toshiba Canvio Ready 1TB外接硬碟+全漢 黑武士 350W銅牌【劈479】, $2499 ★\n"
     ]
    }
   ],
   "source": [
    "for item in search_items(2500, 0.01):\n",
    "    print item[1]"
   ]
  },
  {
   "cell_type": "code",
   "execution_count": null,
   "metadata": {
    "collapsed": true
   },
   "outputs": [],
   "source": []
  }
 ],
 "metadata": {
  "kernelspec": {
   "display_name": "Python 2",
   "language": "python",
   "name": "python2"
  },
  "language_info": {
   "codemirror_mode": {
    "name": "ipython",
    "version": 2
   },
   "file_extension": ".py",
   "mimetype": "text/x-python",
   "name": "python",
   "nbconvert_exporter": "python",
   "pygments_lexer": "ipython2",
   "version": "2.7.11"
  }
 },
 "nbformat": 4,
 "nbformat_minor": 0
}
